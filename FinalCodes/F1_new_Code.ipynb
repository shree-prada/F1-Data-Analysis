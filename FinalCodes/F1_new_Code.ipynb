{
 "cells": [
  {
   "cell_type": "code",
   "execution_count": 19,
   "metadata": {},
   "outputs": [],
   "source": [
    "import numpy as np\n",
    "import pandas as pd\n",
    "import matplotlib\n",
    "import matplotlib.pyplot as plt\n",
    "from matplotlib.collections import LineCollection\n",
    "from matplotlib import cm\n",
    "import fastf1 as ff1\n",
    "from fastf1.core import Laps\n",
    "from fastf1 import utils\n",
    "from fastf1 import plotting\n",
    "plotting.setup_mpl()\n",
    "from timple.timedelta import strftimedelta"
   ]
  },
  {
   "cell_type": "code",
   "execution_count": 24,
   "metadata": {},
   "outputs": [
    {
     "name": "stdout",
     "output_type": "stream",
     "text": [
      "     season  round                                           Race_url   \n",
      "0      2019      1  http://en.wikipedia.org/wiki/2019_Australian_G...  \\\n",
      "1      2019      2  http://en.wikipedia.org/wiki/2019_Bahrain_Gran...   \n",
      "2      2019      3  http://en.wikipedia.org/wiki/2019_Chinese_Gran...   \n",
      "3      2019      4  http://en.wikipedia.org/wiki/2019_Azerbaijan_G...   \n",
      "4      2019      5  http://en.wikipedia.org/wiki/2019_Spanish_Gran...   \n",
      "..      ...    ...                                                ...   \n",
      "99     2023     18  https://en.wikipedia.org/wiki/2023_United_Stat...   \n",
      "100    2023     19  https://en.wikipedia.org/wiki/2023_Mexico_City...   \n",
      "101    2023     20  https://en.wikipedia.org/wiki/2023_S%C3%A3o_Pa...   \n",
      "102    2023     21  https://en.wikipedia.org/wiki/2023_Las_Vegas_G...   \n",
      "103    2023     22  https://en.wikipedia.org/wiki/2023_Abu_Dhabi_G...   \n",
      "\n",
      "                     raceName   Race_date  Race_time    circuitId   \n",
      "0       Australian Grand Prix  2019-03-17  05:10:00Z  albert_park  \\\n",
      "1          Bahrain Grand Prix  2019-03-31  15:10:00Z      bahrain   \n",
      "2          Chinese Grand Prix  2019-04-14  06:10:00Z     shanghai   \n",
      "3       Azerbaijan Grand Prix  2019-04-28  12:10:00Z         baku   \n",
      "4          Spanish Grand Prix  2019-05-12  13:10:00Z    catalunya   \n",
      "..                        ...         ...        ...          ...   \n",
      "99   United States Grand Prix  2023-10-22  19:00:00Z     americas   \n",
      "100    Mexico City Grand Prix  2023-10-29  20:00:00Z    rodriguez   \n",
      "101      São Paulo Grand Prix  2023-11-05  17:00:00Z   interlagos   \n",
      "102      Las Vegas Grand Prix  2023-11-19  06:00:00Z        vegas   \n",
      "103      Abu Dhabi Grand Prix  2023-11-26  13:00:00Z   yas_marina   \n",
      "\n",
      "                                           Circuit_url   \n",
      "0    http://en.wikipedia.org/wiki/Melbourne_Grand_P...  \\\n",
      "1    http://en.wikipedia.org/wiki/Bahrain_Internati...   \n",
      "2    http://en.wikipedia.org/wiki/Shanghai_Internat...   \n",
      "3       http://en.wikipedia.org/wiki/Baku_City_Circuit   \n",
      "4    http://en.wikipedia.org/wiki/Circuit_de_Barcel...   \n",
      "..                                                 ...   \n",
      "99   http://en.wikipedia.org/wiki/Circuit_of_the_Am...   \n",
      "100  http://en.wikipedia.org/wiki/Aut%C3%B3dromo_He...   \n",
      "101  http://en.wikipedia.org/wiki/Aut%C3%B3dromo_Jo...   \n",
      "102  https://en.wikipedia.org/wiki/Las_Vegas_Grand_...   \n",
      "103    http://en.wikipedia.org/wiki/Yas_Marina_Circuit   \n",
      "\n",
      "                        circuitName  Location.lat  Location.long   \n",
      "0    Albert Park Grand Prix Circuit      -37.8497      144.96800  \\\n",
      "1     Bahrain International Circuit       26.0325       50.51060   \n",
      "2    Shanghai International Circuit       31.3389      121.22000   \n",
      "3                 Baku City Circuit       40.3725       49.85330   \n",
      "4    Circuit de Barcelona-Catalunya       41.5700        2.26111   \n",
      "..                              ...           ...            ...   \n",
      "99          Circuit of the Americas       30.1328      -97.64110   \n",
      "100    Autódromo Hermanos Rodríguez       19.4042      -99.09070   \n",
      "101      Autódromo José Carlos Pace      -23.7036      -46.69970   \n",
      "102  Las Vegas Strip Street Circuit       36.1147     -115.17300   \n",
      "103              Yas Marina Circuit       24.4672       54.60310   \n",
      "\n",
      "    Location.locality Location.country  \n",
      "0           Melbourne        Australia  \n",
      "1              Sakhir          Bahrain  \n",
      "2            Shanghai            China  \n",
      "3                Baku       Azerbaijan  \n",
      "4            Montmeló            Spain  \n",
      "..                ...              ...  \n",
      "99             Austin              USA  \n",
      "100       Mexico City           Mexico  \n",
      "101         São Paulo           Brazil  \n",
      "102         Las Vegas    United States  \n",
      "103         Abu Dhabi              UAE  \n",
      "\n",
      "[104 rows x 13 columns]\n"
     ]
    }
   ],
   "source": [
    "allseasondf=pd.read_csv(\"AllSeasons.csv\")\n",
    "allseasondf=allseasondf.drop(allseasondf.columns[[0,14,15,16,17,18,19,20,21,22,23]], axis=1)\n",
    "print(allseasondf)"
   ]
  },
  {
   "cell_type": "code",
   "execution_count": 30,
   "metadata": {},
   "outputs": [
    {
     "ename": "TypeError",
     "evalue": "only list-like objects are allowed to be passed to isin(), you passed a [int64]",
     "output_type": "error",
     "traceback": [
      "\u001b[1;31m---------------------------------------------------------------------------\u001b[0m",
      "\u001b[1;31mTypeError\u001b[0m                                 Traceback (most recent call last)",
      "Cell \u001b[1;32mIn[30], line 4\u001b[0m\n\u001b[0;32m      2\u001b[0m dfq\u001b[39m=\u001b[39mpd\u001b[39m.\u001b[39mDataFrame()\n\u001b[0;32m      3\u001b[0m \u001b[39mfor\u001b[39;00m y \u001b[39min\u001b[39;00m years:\n\u001b[1;32m----> 4\u001b[0m     filtered_df \u001b[39m=\u001b[39m allseasondf[allseasondf[\u001b[39m'\u001b[39;49m\u001b[39mseason\u001b[39;49m\u001b[39m'\u001b[39;49m]\u001b[39m.\u001b[39;49misin(y)]\n\u001b[0;32m      5\u001b[0m     races\u001b[39m=\u001b[39mfiltered_df[\u001b[39m'\u001b[39m\u001b[39mraceName\u001b[39m\u001b[39m'\u001b[39m]\n\u001b[0;32m      6\u001b[0m     \u001b[39mprint\u001b[39m(races)\n",
      "File \u001b[1;32mi:\\PythonInstallation\\Lib\\site-packages\\pandas\\core\\series.py:5407\u001b[0m, in \u001b[0;36mSeries.isin\u001b[1;34m(self, values)\u001b[0m\n\u001b[0;32m   5334\u001b[0m \u001b[39mdef\u001b[39;00m \u001b[39misin\u001b[39m(\u001b[39mself\u001b[39m, values) \u001b[39m-\u001b[39m\u001b[39m>\u001b[39m Series:\n\u001b[0;32m   5335\u001b[0m \u001b[39m    \u001b[39m\u001b[39m\"\"\"\u001b[39;00m\n\u001b[0;32m   5336\u001b[0m \u001b[39m    Whether elements in Series are contained in `values`.\u001b[39;00m\n\u001b[0;32m   5337\u001b[0m \n\u001b[1;32m   (...)\u001b[0m\n\u001b[0;32m   5405\u001b[0m \u001b[39m    dtype: bool\u001b[39;00m\n\u001b[0;32m   5406\u001b[0m \u001b[39m    \"\"\"\u001b[39;00m\n\u001b[1;32m-> 5407\u001b[0m     result \u001b[39m=\u001b[39m algorithms\u001b[39m.\u001b[39;49misin(\u001b[39mself\u001b[39;49m\u001b[39m.\u001b[39;49m_values, values)\n\u001b[0;32m   5408\u001b[0m     \u001b[39mreturn\u001b[39;00m \u001b[39mself\u001b[39m\u001b[39m.\u001b[39m_constructor(result, index\u001b[39m=\u001b[39m\u001b[39mself\u001b[39m\u001b[39m.\u001b[39mindex, copy\u001b[39m=\u001b[39m\u001b[39mFalse\u001b[39;00m)\u001b[39m.\u001b[39m__finalize__(\n\u001b[0;32m   5409\u001b[0m         \u001b[39mself\u001b[39m, method\u001b[39m=\u001b[39m\u001b[39m\"\u001b[39m\u001b[39misin\u001b[39m\u001b[39m\"\u001b[39m\n\u001b[0;32m   5410\u001b[0m     )\n",
      "File \u001b[1;32mi:\\PythonInstallation\\Lib\\site-packages\\pandas\\core\\algorithms.py:462\u001b[0m, in \u001b[0;36misin\u001b[1;34m(comps, values)\u001b[0m\n\u001b[0;32m    457\u001b[0m     \u001b[39mraise\u001b[39;00m \u001b[39mTypeError\u001b[39;00m(\n\u001b[0;32m    458\u001b[0m         \u001b[39m\"\u001b[39m\u001b[39monly list-like objects are allowed to be passed \u001b[39m\u001b[39m\"\u001b[39m\n\u001b[0;32m    459\u001b[0m         \u001b[39mf\u001b[39m\u001b[39m\"\u001b[39m\u001b[39mto isin(), you passed a [\u001b[39m\u001b[39m{\u001b[39;00m\u001b[39mtype\u001b[39m(comps)\u001b[39m.\u001b[39m\u001b[39m__name__\u001b[39m\u001b[39m}\u001b[39;00m\u001b[39m]\u001b[39m\u001b[39m\"\u001b[39m\n\u001b[0;32m    460\u001b[0m     )\n\u001b[0;32m    461\u001b[0m \u001b[39mif\u001b[39;00m \u001b[39mnot\u001b[39;00m is_list_like(values):\n\u001b[1;32m--> 462\u001b[0m     \u001b[39mraise\u001b[39;00m \u001b[39mTypeError\u001b[39;00m(\n\u001b[0;32m    463\u001b[0m         \u001b[39m\"\u001b[39m\u001b[39monly list-like objects are allowed to be passed \u001b[39m\u001b[39m\"\u001b[39m\n\u001b[0;32m    464\u001b[0m         \u001b[39mf\u001b[39m\u001b[39m\"\u001b[39m\u001b[39mto isin(), you passed a [\u001b[39m\u001b[39m{\u001b[39;00m\u001b[39mtype\u001b[39m(values)\u001b[39m.\u001b[39m\u001b[39m__name__\u001b[39m\u001b[39m}\u001b[39;00m\u001b[39m]\u001b[39m\u001b[39m\"\u001b[39m\n\u001b[0;32m    465\u001b[0m     )\n\u001b[0;32m    467\u001b[0m \u001b[39mif\u001b[39;00m \u001b[39mnot\u001b[39;00m \u001b[39misinstance\u001b[39m(values, (ABCIndex, ABCSeries, ABCExtensionArray, np\u001b[39m.\u001b[39mndarray)):\n\u001b[0;32m    468\u001b[0m     orig_values \u001b[39m=\u001b[39m \u001b[39mlist\u001b[39m(values)\n",
      "\u001b[1;31mTypeError\u001b[0m: only list-like objects are allowed to be passed to isin(), you passed a [int64]"
     ]
    }
   ],
   "source": [
    "years=allseasondf['season'].unique()\n",
    "dfq=pd.DataFrame()\n",
    "for y in years:\n",
    "    filtered_df = allseasondf[allseasondf['season'].isin(y)]\n",
    "    races=filtered_df['raceName']\n",
    "    print(races)\n",
    "    '''for r in races:\n",
    "        type='Q'\n",
    "        qualification = ff1.get_session(y, r, type)\n",
    "        qualification.load()\n",
    "        tempdfq=pd.DataFrame(qualification.results)\n",
    "        dfq=pd.concat([dfq, tempdfq], ignore_index=True)'''\n",
    "print(dfq)"
   ]
  },
  {
   "cell_type": "code",
   "execution_count": 42,
   "metadata": {},
   "outputs": [
    {
     "name": "stderr",
     "output_type": "stream",
     "text": [
      "core           INFO \tLoading data for Saudi Arabian Grand Prix - Race [v3.0.6]\n",
      "req            INFO \tUsing cached data for driver_info\n",
      "req            INFO \tUsing cached data for session_status_data\n",
      "req            INFO \tUsing cached data for lap_count\n",
      "req            INFO \tUsing cached data for track_status_data\n",
      "req            INFO \tUsing cached data for timing_data\n",
      "req            INFO \tUsing cached data for timing_app_data\n",
      "core           INFO \tProcessing timing data...\n",
      "core        WARNING \tNo lap data for driver 22\n",
      "core        WARNING \tNo lap data for driver 47\n",
      "core        WARNING \tFailed to perform lap accuracy check - all laps marked as inaccurate.\n",
      "core        WARNING \tFailed to perform lap accuracy check - all laps marked as inaccurate.\n",
      "req            INFO \tUsing cached data for car_data\n",
      "req            INFO \tUsing cached data for position_data\n",
      "req            INFO \tUsing cached data for weather_data\n",
      "req            INFO \tUsing cached data for race_control_messages\n",
      "core           INFO \tFinished loading data for 20 drivers: ['1', '16', '55', '11', '63', '31', '4', '10', '20', '44', '24', '27', '18', '23', '77', '14', '3', '6', '22', '47']\n"
     ]
    }
   ],
   "source": [
    "qualification.load()\n",
    "#qualification.results[:3]\n",
    "\n",
    "df=pd.DataFrame(qualification.results)\n",
    "df.to_csv(\"race_SA_2022.csv\")"
   ]
  }
 ],
 "metadata": {
  "kernelspec": {
   "display_name": "Python 3",
   "language": "python",
   "name": "python3"
  },
  "language_info": {
   "codemirror_mode": {
    "name": "ipython",
    "version": 3
   },
   "file_extension": ".py",
   "mimetype": "text/x-python",
   "name": "python",
   "nbconvert_exporter": "python",
   "pygments_lexer": "ipython3",
   "version": "3.11.3"
  },
  "orig_nbformat": 4
 },
 "nbformat": 4,
 "nbformat_minor": 2
}
