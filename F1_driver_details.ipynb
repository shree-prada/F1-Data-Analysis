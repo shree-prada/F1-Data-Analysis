{
 "cells": [
  {
   "cell_type": "code",
   "execution_count": 33,
   "metadata": {},
   "outputs": [],
   "source": [
    "#imports\n",
    "import json\n",
    "import pandas as pd\n",
    "import numpy as np\n",
    "import requests\n",
    "from fastf1 import core"
   ]
  },
  {
   "cell_type": "code",
   "execution_count": 34,
   "metadata": {},
   "outputs": [
    {
     "name": "stdout",
     "output_type": "stream",
     "text": [
      "     Unnamed: 0  season  round   \n",
      "0             0    2019      1  \\\n",
      "1             1    2019      2   \n",
      "2             2    2019      3   \n",
      "3             3    2019      4   \n",
      "4             4    2019      5   \n",
      "..          ...     ...    ...   \n",
      "99           99    2023     18   \n",
      "100         100    2023     19   \n",
      "101         101    2023     20   \n",
      "102         102    2023     21   \n",
      "103         103    2023     22   \n",
      "\n",
      "                                              Race_url   \n",
      "0    http://en.wikipedia.org/wiki/2019_Australian_G...  \\\n",
      "1    http://en.wikipedia.org/wiki/2019_Bahrain_Gran...   \n",
      "2    http://en.wikipedia.org/wiki/2019_Chinese_Gran...   \n",
      "3    http://en.wikipedia.org/wiki/2019_Azerbaijan_G...   \n",
      "4    http://en.wikipedia.org/wiki/2019_Spanish_Gran...   \n",
      "..                                                 ...   \n",
      "99   https://en.wikipedia.org/wiki/2023_United_Stat...   \n",
      "100  https://en.wikipedia.org/wiki/2023_Mexico_City...   \n",
      "101  https://en.wikipedia.org/wiki/2023_S%C3%A3o_Pa...   \n",
      "102  https://en.wikipedia.org/wiki/2023_Las_Vegas_G...   \n",
      "103  https://en.wikipedia.org/wiki/2023_Abu_Dhabi_G...   \n",
      "\n",
      "                     raceName   Race_date  Race_time    circuitId   \n",
      "0       Australian Grand Prix  2019-03-17  05:10:00Z  albert_park  \\\n",
      "1          Bahrain Grand Prix  2019-03-31  15:10:00Z      bahrain   \n",
      "2          Chinese Grand Prix  2019-04-14  06:10:00Z     shanghai   \n",
      "3       Azerbaijan Grand Prix  2019-04-28  12:10:00Z         baku   \n",
      "4          Spanish Grand Prix  2019-05-12  13:10:00Z    catalunya   \n",
      "..                        ...         ...        ...          ...   \n",
      "99   United States Grand Prix  2023-10-22  19:00:00Z     americas   \n",
      "100    Mexico City Grand Prix  2023-10-29  20:00:00Z    rodriguez   \n",
      "101      São Paulo Grand Prix  2023-11-05  17:00:00Z   interlagos   \n",
      "102      Las Vegas Grand Prix  2023-11-19  06:00:00Z        vegas   \n",
      "103      Abu Dhabi Grand Prix  2023-11-26  13:00:00Z   yas_marina   \n",
      "\n",
      "                                           Circuit_url   \n",
      "0    http://en.wikipedia.org/wiki/Melbourne_Grand_P...  \\\n",
      "1    http://en.wikipedia.org/wiki/Bahrain_Internati...   \n",
      "2    http://en.wikipedia.org/wiki/Shanghai_Internat...   \n",
      "3       http://en.wikipedia.org/wiki/Baku_City_Circuit   \n",
      "4    http://en.wikipedia.org/wiki/Circuit_de_Barcel...   \n",
      "..                                                 ...   \n",
      "99   http://en.wikipedia.org/wiki/Circuit_of_the_Am...   \n",
      "100  http://en.wikipedia.org/wiki/Aut%C3%B3dromo_He...   \n",
      "101  http://en.wikipedia.org/wiki/Aut%C3%B3dromo_Jo...   \n",
      "102  https://en.wikipedia.org/wiki/Las_Vegas_Grand_...   \n",
      "103    http://en.wikipedia.org/wiki/Yas_Marina_Circuit   \n",
      "\n",
      "                        circuitName  ...     FP_date    FP_time     SP_date   \n",
      "0    Albert Park Grand Prix Circuit  ...         NaN        NaN         NaN  \\\n",
      "1     Bahrain International Circuit  ...         NaN        NaN         NaN   \n",
      "2    Shanghai International Circuit  ...         NaN        NaN         NaN   \n",
      "3                 Baku City Circuit  ...         NaN        NaN         NaN   \n",
      "4    Circuit de Barcelona-Catalunya  ...         NaN        NaN         NaN   \n",
      "..                              ...  ...         ...        ...         ...   \n",
      "99          Circuit of the Americas  ...  2023-10-20  17:30:00Z  2023-10-21   \n",
      "100    Autódromo Hermanos Rodríguez  ...  2023-10-27  18:30:00Z  2023-10-27   \n",
      "101      Autódromo José Carlos Pace  ...  2023-11-03  14:30:00Z  2023-11-04   \n",
      "102  Las Vegas Strip Street Circuit  ...  2023-11-17  04:30:00Z  2023-11-17   \n",
      "103              Yas Marina Circuit  ...  2023-11-24  09:30:00Z  2023-11-24   \n",
      "\n",
      "       SP_time     TP_date    TP_time  Quali_date Quali_time Sprint_date   \n",
      "0          NaN         NaN        NaN         NaN        NaN         NaN  \\\n",
      "1          NaN         NaN        NaN         NaN        NaN         NaN   \n",
      "2          NaN         NaN        NaN         NaN        NaN         NaN   \n",
      "3          NaN         NaN        NaN         NaN        NaN         NaN   \n",
      "4          NaN         NaN        NaN         NaN        NaN         NaN   \n",
      "..         ...         ...        ...         ...        ...         ...   \n",
      "99   18:00:00Z         NaN        NaN  2023-10-20  21:00:00Z  2023-10-21   \n",
      "100  22:00:00Z  2023-10-28  17:30:00Z  2023-10-28  21:00:00Z         NaN   \n",
      "101  14:30:00Z         NaN        NaN  2023-11-03  18:00:00Z  2023-11-04   \n",
      "102  08:00:00Z  2023-11-18  04:30:00Z  2023-11-18  08:00:00Z         NaN   \n",
      "103  13:00:00Z  2023-11-25  10:30:00Z  2023-11-25  14:00:00Z         NaN   \n",
      "\n",
      "    Sprint_time  \n",
      "0           NaN  \n",
      "1           NaN  \n",
      "2           NaN  \n",
      "3           NaN  \n",
      "4           NaN  \n",
      "..          ...  \n",
      "99    22:00:00Z  \n",
      "100         NaN  \n",
      "101   18:30:00Z  \n",
      "102         NaN  \n",
      "103         NaN  \n",
      "\n",
      "[104 rows x 24 columns]\n"
     ]
    }
   ],
   "source": [
    "readDF=pd.read_csv(\"AllSeasons.csv\")\n",
    "print(readDF)"
   ]
  },
  {
   "cell_type": "code",
   "execution_count": 35,
   "metadata": {},
   "outputs": [
    {
     "ename": "ValueError",
     "evalue": "DataFrame constructor not properly called!",
     "output_type": "error",
     "traceback": [
      "\u001b[1;31m---------------------------------------------------------------------------\u001b[0m",
      "\u001b[1;31mValueError\u001b[0m                                Traceback (most recent call last)",
      "Cell \u001b[1;32mIn[35], line 1\u001b[0m\n\u001b[1;32m----> 1\u001b[0m session\u001b[39m=\u001b[39mfastf1\u001b[39m.\u001b[39;49mcore\u001b[39m.\u001b[39;49mSessionResults(\u001b[39m2019\u001b[39;49m,\u001b[39m1\u001b[39;49m)\n\u001b[0;32m      2\u001b[0m session\u001b[39m.\u001b[39mload()\n",
      "File \u001b[1;32mi:\\PythonInstallation\\Lib\\site-packages\\fastf1\\core.py:3110\u001b[0m, in \u001b[0;36mSessionResults.__init__\u001b[1;34m(self, force_default_cols, *args, **kwargs)\u001b[0m\n\u001b[0;32m   3108\u001b[0m \u001b[39mif\u001b[39;00m force_default_cols:\n\u001b[0;32m   3109\u001b[0m     kwargs[\u001b[39m'\u001b[39m\u001b[39mcolumns\u001b[39m\u001b[39m'\u001b[39m] \u001b[39m=\u001b[39m \u001b[39mlist\u001b[39m(\u001b[39mself\u001b[39m\u001b[39m.\u001b[39m_COL_TYPES\u001b[39m.\u001b[39mkeys())\n\u001b[1;32m-> 3110\u001b[0m \u001b[39msuper\u001b[39;49m()\u001b[39m.\u001b[39;49m\u001b[39m__init__\u001b[39;49m(\u001b[39m*\u001b[39;49margs, \u001b[39m*\u001b[39;49m\u001b[39m*\u001b[39;49mkwargs)\n\u001b[0;32m   3112\u001b[0m \u001b[39m# apply column specific dtypes\u001b[39;00m\n\u001b[0;32m   3113\u001b[0m \u001b[39mif\u001b[39;00m force_default_cols:\n",
      "File \u001b[1;32mi:\\PythonInstallation\\Lib\\site-packages\\pandas\\core\\frame.py:816\u001b[0m, in \u001b[0;36mDataFrame.__init__\u001b[1;34m(self, data, index, columns, dtype, copy)\u001b[0m\n\u001b[0;32m    813\u001b[0m \u001b[39m# For data is scalar\u001b[39;00m\n\u001b[0;32m    814\u001b[0m \u001b[39melse\u001b[39;00m:\n\u001b[0;32m    815\u001b[0m     \u001b[39mif\u001b[39;00m index \u001b[39mis\u001b[39;00m \u001b[39mNone\u001b[39;00m \u001b[39mor\u001b[39;00m columns \u001b[39mis\u001b[39;00m \u001b[39mNone\u001b[39;00m:\n\u001b[1;32m--> 816\u001b[0m         \u001b[39mraise\u001b[39;00m \u001b[39mValueError\u001b[39;00m(\u001b[39m\"\u001b[39m\u001b[39mDataFrame constructor not properly called!\u001b[39m\u001b[39m\"\u001b[39m)\n\u001b[0;32m    818\u001b[0m     index \u001b[39m=\u001b[39m ensure_index(index)\n\u001b[0;32m    819\u001b[0m     columns \u001b[39m=\u001b[39m ensure_index(columns)\n",
      "\u001b[1;31mValueError\u001b[0m: DataFrame constructor not properly called!"
     ]
    }
   ],
   "source": [
    "session=fastf1.core.SessionResults(2019,1)\n",
    "session.load()\n"
   ]
  }
 ],
 "metadata": {
  "kernelspec": {
   "display_name": "Python 3",
   "language": "python",
   "name": "python3"
  },
  "language_info": {
   "codemirror_mode": {
    "name": "ipython",
    "version": 3
   },
   "file_extension": ".py",
   "mimetype": "text/x-python",
   "name": "python",
   "nbconvert_exporter": "python",
   "pygments_lexer": "ipython3",
   "version": "3.11.3"
  },
  "orig_nbformat": 4
 },
 "nbformat": 4,
 "nbformat_minor": 2
}
